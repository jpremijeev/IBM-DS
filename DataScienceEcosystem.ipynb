{
 "cells": [
  {
   "cell_type": "markdown",
   "id": "92c1e076-623c-4e12-98f5-8259a748e0c5",
   "metadata": {},
   "source": [
    "# Data Science Tools and Ecosystem"
   ]
  },
  {
   "cell_type": "markdown",
   "id": "be16c3e2-8f21-4dff-8094-2eaf9f918e92",
   "metadata": {
    "jp-MarkdownHeadingCollapsed": true
   },
   "source": [
    "## Introduction\n",
    "\n",
    "In this notebook, Data Science Tools and Ecosystem are summarized."
   ]
  },
  {
   "cell_type": "markdown",
   "id": "dd388fd0-108f-4228-8adb-ed743daee241",
   "metadata": {
    "jp-MarkdownHeadingCollapsed": true
   },
   "source": [
    "## Data Science Languages\n",
    "\n",
    "Some of the popular languages that Data Scientists use are:\n",
    "\n",
    "1. Python\n",
    "2. R\n",
    "3. SQL"
   ]
  },
  {
   "cell_type": "markdown",
   "id": "05a6a669-be85-456f-89de-678e445f87ff",
   "metadata": {},
   "source": [
    "## Data Science Libraries\r\n",
    "\r\n",
    "Some of the commonly used libraries used by Data Scientists include:\r\n",
    "\r\n",
    "1. NumPy\r\n",
    "2. Pandas\r\n",
    "3. Scikitlearn\r\n"
   ]
  },
  {
   "cell_type": "markdown",
   "id": "1562d56e-bc64-4aed-abf7-d934c98a6238",
   "metadata": {},
   "source": [
    "## Data Science Tools\r\n",
    "\r\n",
    "| Data Science Tools      |\r\n",
    "|-------------------------|\r\n",
    "| Jupyter Notebook        |\r\n",
    "| RStudio                 |\r\n",
    "| Apache Zeppelin     |-------------------------|    |\r\n"
   ]
  },
  {
   "cell_type": "markdown",
   "id": "77e65b4d-7b4d-431e-872d-a76264366f51",
   "metadata": {},
   "source": [
    "### Below are a few examples of evaluating arithmetic expressions in Python.\n"
   ]
  },
  {
   "cell_type": "code",
   "execution_count": 2,
   "id": "413e2f1b-d817-42e0-beab-f98d565f16fa",
   "metadata": {},
   "outputs": [
    {
     "data": {
      "text/plain": [
       "17"
      ]
     },
     "execution_count": 2,
     "metadata": {},
     "output_type": "execute_result"
    }
   ],
   "source": [
    "# This is a simple arithmetic expression to multiply then add integers.\n",
    "result = (3 * 4) + 5\n",
    "result"
   ]
  },
  {
   "cell_type": "code",
   "execution_count": 3,
   "id": "9236902d-592b-44bf-9935-a0319a12945d",
   "metadata": {},
   "outputs": [
    {
     "data": {
      "text/plain": [
       "3.3333333333333335"
      ]
     },
     "execution_count": 3,
     "metadata": {},
     "output_type": "execute_result"
    }
   ],
   "source": [
    "# This will convert 200 minutes to hours by dividing by 60.\n",
    "minutes = 200\n",
    "hours = minutes / 60\n",
    "hours"
   ]
  },
  {
   "cell_type": "markdown",
   "id": "5f155a6c-2372-4d41-8cdf-241838fd3d02",
   "metadata": {},
   "source": [
    "## Introduction\r\n",
    "\r\n",
    "This notebook serves as a comprehensive guide to various aspects of data science. It includes information on data science languages, libraries, tools, and examples of arithmetic expressions. Additionally, it provides practical code examples for common data science operations.\r\n",
    "\r\n",
    "**Objectives:**\r\n",
    "\r\n",
    "- List popular languages for Data Science\r\n",
    "- List commonly used libraries in Data Science\r\n",
    "- Provide a table of Data Science tools\r\n",
    "- Demonstrate arithmetic expressions in Python\r\n",
    "- Convert minutes to hours using Python\r\n"
   ]
  },
  {
   "cell_type": "markdown",
   "id": "810a7582-66e9-4280-bd23-384b947ae71d",
   "metadata": {},
   "source": [
    "## Author\n",
    "\n",
    "Premi Jeevarathinam"
   ]
  }
 ],
 "metadata": {
  "kernelspec": {
   "display_name": "Python 3 (ipykernel)",
   "language": "python",
   "name": "python3"
  },
  "language_info": {
   "codemirror_mode": {
    "name": "ipython",
    "version": 3
   },
   "file_extension": ".py",
   "mimetype": "text/x-python",
   "name": "python",
   "nbconvert_exporter": "python",
   "pygments_lexer": "ipython3",
   "version": "3.12.1"
  }
 },
 "nbformat": 4,
 "nbformat_minor": 5
}
